{
 "cells": [
  {
   "cell_type": "markdown",
   "metadata": {},
   "source": [
    "- Loading the Dataset"
   ]
  },
  {
   "cell_type": "code",
   "execution_count": null,
   "metadata": {},
   "outputs": [],
   "source": [
    "import pandas as pd\n",
    "import pickle\n",
    "\n",
    "EXCEL_FILE_PATH = \"../Data/MI 2 Rows of Couties North of IN-OH.xlsx\"\n",
    "\n",
    "# Load the Excel file\n",
    "df = pd.read_excel()\n",
    "\n",
    "# Data cleaning\n",
    "df.dropna(subset=['MAIL_ADDR','MAIL_CITY','MAIL_STATE','MAIL_ZIP','OWNER_NAME_1'], inplace=True)\n",
    "df = df.drop_duplicates(['MAIL_ADDR','MAIL_CITY','MAIL_STATE','MAIL_ZIP'])"
   ]
  },
  {
   "cell_type": "code",
   "execution_count": null,
   "metadata": {},
   "outputs": [],
   "source": [
    "\n",
    "\n",
    "# Load the trained model\n",
    "with open(\"logreg_classifier.pickle\", \"rb\") as model_file:\n",
    "    model = pickle.load(model_file)\n",
    "\n",
    "# Load the TF-IDF vectorizer (you should also save the vectorizer when you save the model)\n",
    "with open(\"logreg_vectorizer.pickle\", \"rb\") as vec_file:\n",
    "    vectorizer = pickle.load(vec_file)\n",
    "\n",
    "# Ensure the 'OWNER_NAME_1' column exists\n",
    "if 'OWNER_NAME_1' in df.columns:\n",
    "    # Vectorize the 'Owner' column\n",
    "    X_test = vectorizer.transform(df['OWNER_NAME_1'])\n",
    "    \n",
    "    # Predict using the loaded model\n",
    "    df['Prediction'] = model.predict(X_test)\n",
    "    \n",
    "    # Optionally, save the DataFrame with predictions\n",
    "    # df.to_excel(\"AR Top 10 Zips July 31 2024 - 3-9.99 ac Testing_Predictions.xlsx\", index=False)\n",
    "else:\n",
    "    print(\"The 'Owner' column is missing from the Excel file.\")\n"
   ]
  },
  {
   "cell_type": "code",
   "execution_count": 10,
   "metadata": {},
   "outputs": [],
   "source": [
    "df = df[['OWNER_NAME_1', 'Prediction']]\n",
    "df.to_excel(f\"{EXCEL_FILE_PATH} SCRUBBED\", index=False)"
   ]
  },
  {
   "cell_type": "code",
   "execution_count": 4,
   "metadata": {},
   "outputs": [
    {
     "data": {
      "text/plain": [
       "0          KOLLER, GREGORY\n",
       "1             LOONEY, BILL\n",
       "2       CHRISMAN, ANGELA D\n",
       "3           SIKES, CHRISTY\n",
       "4                  MOORE O\n",
       "               ...        \n",
       "3972         VANESS, ROBIN\n",
       "3973        GRAY, DONALD D\n",
       "3974        SABO, AMANDA L\n",
       "3975    DAVENPORT, JAMES M\n",
       "3976       MYERS, GEORGE S\n",
       "Name: OWNER_NAME_1, Length: 3414, dtype: object"
      ]
     },
     "execution_count": 4,
     "metadata": {},
     "output_type": "execute_result"
    }
   ],
   "source": [
    "df = pd.read_excel(f\"{EXCEL_FILE_PATH} SCRUBBED\")\n",
    "filtered_names = pd.read_excel(\"AR Top 10 Zips July 31 2024 - 3-9.99 ac Tested.xlsx\")\n",
    "human_names = filtered_names[filtered_names['Prediction'] == 'Human Name']['OWNER_NAME_1'].tolist()\n",
    "df[df['OWNER_NAME_1'].isin(human_names)]['OWNER_NAME_1']\n"
   ]
  },
  {
   "cell_type": "code",
   "execution_count": null,
   "metadata": {},
   "outputs": [],
   "source": [
    "# List of keywords indicating company names\n",
    "Suspected_Words = [\n",
    "    'OF', 'SERVICES', 'COUNTY', 'DISTRIBUTOR', 'PRODUCTS', 'COUNTRY CLUB', 'PLLC', 'PRIVATE',\n",
    "    'COMPANY', 'INC', 'RETIREMENT', 'DEVELOPMENT', 'HOA', 'AUTHORITY', 'CONF', 'CONFERENCE',\n",
    "    'CONSTRUCTION', 'AFFORDABLE', 'HOUSING', 'MID COAST', 'ESTATE', 'REHABILITATION', 'GARDENS',\n",
    "    'WELLNESS', 'LLC', 'STATE', 'LAND', 'MEMBERSHIP', 'COOPERATIVE', 'CORP', 'CORPORATION',\n",
    "    'INDEPENDENT', 'CHURCH', 'ENTERPRISES', 'ACCOUNTING', 'INVESTMENTS', 'OWNERS', 'AIRPORT',\n",
    "    'MAINTENANCE', 'ASSOCIATION', 'REALTY', 'FOUNDATION', 'CONSULTANTS', 'ASSOCIATES',\n",
    "    'CORPORATE', 'DISTRICT', 'LTD', 'LIMITED', 'INCORPORATED', 'PROPERTIES', 'INVESTMENT',\n",
    "    'NORTHEAST', 'PLUMBING', 'HEATING'\n",
    "]\n",
    "\n",
    "# Pattern to detect suspected company names\n",
    "pattern = r'\\b(' + '|'.join(Suspected_Words) + r')\\b'\n",
    "\n",
    "# Filter out suspected company names\n",
    "df = df[~df['OWNER_NAME_1'].str.contains(pattern, case=False, na=False)]"
   ]
  }
 ],
 "metadata": {
  "kernelspec": {
   "display_name": "Python 3",
   "language": "python",
   "name": "python3"
  },
  "language_info": {
   "codemirror_mode": {
    "name": "ipython",
    "version": 3
   },
   "file_extension": ".py",
   "mimetype": "text/x-python",
   "name": "python",
   "nbconvert_exporter": "python",
   "pygments_lexer": "ipython3",
   "version": "3.12.0"
  }
 },
 "nbformat": 4,
 "nbformat_minor": 2
}
