{
 "cells": [
  {
   "cell_type": "markdown",
   "id": "0085c756",
   "metadata": {},
   "source": [
    "## import libraries"
   ]
  },
  {
   "cell_type": "code",
   "execution_count": null,
   "id": "163a0b48",
   "metadata": {},
   "outputs": [],
   "source": [
    "import pandas as pd"
   ]
  },
  {
   "cell_type": "code",
   "execution_count": 64,
   "id": "3c10877c",
   "metadata": {},
   "outputs": [
    {
     "data": {
      "text/html": [
       "<div>\n",
       "<style scoped>\n",
       "    .dataframe tbody tr th:only-of-type {\n",
       "        vertical-align: middle;\n",
       "    }\n",
       "\n",
       "    .dataframe tbody tr th {\n",
       "        vertical-align: top;\n",
       "    }\n",
       "\n",
       "    .dataframe thead th {\n",
       "        text-align: right;\n",
       "    }\n",
       "</style>\n",
       "<table border=\"1\" class=\"dataframe\">\n",
       "  <thead>\n",
       "    <tr style=\"text-align: right;\">\n",
       "      <th></th>\n",
       "      <th>Price</th>\n",
       "      <th>Size</th>\n",
       "    </tr>\n",
       "  </thead>\n",
       "  <tbody>\n",
       "    <tr>\n",
       "      <th>0</th>\n",
       "      <td>$250,000</td>\n",
       "      <td>4.5 acres</td>\n",
       "    </tr>\n",
       "    <tr>\n",
       "      <th>1</th>\n",
       "      <td>$155,999</td>\n",
       "      <td>4.2 acres</td>\n",
       "    </tr>\n",
       "    <tr>\n",
       "      <th>2</th>\n",
       "      <td>$69,900</td>\n",
       "      <td>1.25 acres</td>\n",
       "    </tr>\n",
       "    <tr>\n",
       "      <th>3</th>\n",
       "      <td>$184,900</td>\n",
       "      <td>2.5 acres</td>\n",
       "    </tr>\n",
       "    <tr>\n",
       "      <th>4</th>\n",
       "      <td>$184,900</td>\n",
       "      <td>2.5 acres</td>\n",
       "    </tr>\n",
       "    <tr>\n",
       "      <th>5</th>\n",
       "      <td>$34,000</td>\n",
       "      <td>0.34 acres</td>\n",
       "    </tr>\n",
       "    <tr>\n",
       "      <th>6</th>\n",
       "      <td>$56,000</td>\n",
       "      <td>0.7 acres</td>\n",
       "    </tr>\n",
       "    <tr>\n",
       "      <th>7</th>\n",
       "      <td>$220,000</td>\n",
       "      <td>4.6 acres</td>\n",
       "    </tr>\n",
       "    <tr>\n",
       "      <th>8</th>\n",
       "      <td>$389,000</td>\n",
       "      <td>2 acres</td>\n",
       "    </tr>\n",
       "  </tbody>\n",
       "</table>\n",
       "</div>"
      ],
      "text/plain": [
       "      Price        Size\n",
       "0  $250,000   4.5 acres\n",
       "1  $155,999   4.2 acres\n",
       "2   $69,900  1.25 acres\n",
       "3  $184,900   2.5 acres\n",
       "4  $184,900   2.5 acres\n",
       "5   $34,000  0.34 acres\n",
       "6   $56,000   0.7 acres\n",
       "7  $220,000   4.6 acres\n",
       "8  $389,000     2 acres"
      ]
     },
     "execution_count": 64,
     "metadata": {},
     "output_type": "execute_result"
    }
   ],
   "source": [
    "data = pd.read_excel('data34604.xlsx')\n",
    "data"
   ]
  },
  {
   "cell_type": "markdown",
   "id": "dcc8ddbf",
   "metadata": {},
   "source": [
    "## Cleaning data after scraping it from the extension"
   ]
  },
  {
   "cell_type": "code",
   "execution_count": 65,
   "id": "3427914f",
   "metadata": {},
   "outputs": [
    {
     "name": "stderr",
     "output_type": "stream",
     "text": [
      "C:\\Users\\Horus\\AppData\\Local\\Temp\\ipykernel_29192\\2401074792.py:1: FutureWarning: The default value of regex will change from True to False in a future version.\n",
      "  data['Size'] = data['Size'].str.replace('[^\\d.]', '').astype(float)\n",
      "C:\\Users\\Horus\\AppData\\Local\\Temp\\ipykernel_29192\\2401074792.py:2: FutureWarning: The default value of regex will change from True to False in a future version. In addition, single character regular expressions will *not* be treated as literal strings when regex=True.\n",
      "  data['Price'] = data['Price'].str.replace('$', '')\n"
     ]
    }
   ],
   "source": [
    "data['Size'] = data['Size'].str.replace('[^\\d.]', '').astype(float)\n",
    "data['Price'] = data['Price'].str.replace('$', '')\n",
    "data['Price'] = data['Price'].str.replace(',', '').astype(float)"
   ]
  },
  {
   "cell_type": "code",
   "execution_count": 66,
   "id": "7ace3a72",
   "metadata": {},
   "outputs": [
    {
     "data": {
      "text/html": [
       "<div>\n",
       "<style scoped>\n",
       "    .dataframe tbody tr th:only-of-type {\n",
       "        vertical-align: middle;\n",
       "    }\n",
       "\n",
       "    .dataframe tbody tr th {\n",
       "        vertical-align: top;\n",
       "    }\n",
       "\n",
       "    .dataframe thead th {\n",
       "        text-align: right;\n",
       "    }\n",
       "</style>\n",
       "<table border=\"1\" class=\"dataframe\">\n",
       "  <thead>\n",
       "    <tr style=\"text-align: right;\">\n",
       "      <th></th>\n",
       "      <th>Price</th>\n",
       "      <th>Size</th>\n",
       "    </tr>\n",
       "  </thead>\n",
       "  <tbody>\n",
       "    <tr>\n",
       "      <th>0</th>\n",
       "      <td>250000.0</td>\n",
       "      <td>4.50</td>\n",
       "    </tr>\n",
       "    <tr>\n",
       "      <th>1</th>\n",
       "      <td>155999.0</td>\n",
       "      <td>4.20</td>\n",
       "    </tr>\n",
       "    <tr>\n",
       "      <th>2</th>\n",
       "      <td>69900.0</td>\n",
       "      <td>1.25</td>\n",
       "    </tr>\n",
       "    <tr>\n",
       "      <th>3</th>\n",
       "      <td>184900.0</td>\n",
       "      <td>2.50</td>\n",
       "    </tr>\n",
       "    <tr>\n",
       "      <th>4</th>\n",
       "      <td>184900.0</td>\n",
       "      <td>2.50</td>\n",
       "    </tr>\n",
       "    <tr>\n",
       "      <th>5</th>\n",
       "      <td>34000.0</td>\n",
       "      <td>0.34</td>\n",
       "    </tr>\n",
       "    <tr>\n",
       "      <th>6</th>\n",
       "      <td>56000.0</td>\n",
       "      <td>0.70</td>\n",
       "    </tr>\n",
       "    <tr>\n",
       "      <th>7</th>\n",
       "      <td>220000.0</td>\n",
       "      <td>4.60</td>\n",
       "    </tr>\n",
       "    <tr>\n",
       "      <th>8</th>\n",
       "      <td>389000.0</td>\n",
       "      <td>2.00</td>\n",
       "    </tr>\n",
       "  </tbody>\n",
       "</table>\n",
       "</div>"
      ],
      "text/plain": [
       "      Price  Size\n",
       "0  250000.0  4.50\n",
       "1  155999.0  4.20\n",
       "2   69900.0  1.25\n",
       "3  184900.0  2.50\n",
       "4  184900.0  2.50\n",
       "5   34000.0  0.34\n",
       "6   56000.0  0.70\n",
       "7  220000.0  4.60\n",
       "8  389000.0  2.00"
      ]
     },
     "execution_count": 66,
     "metadata": {},
     "output_type": "execute_result"
    }
   ],
   "source": [
    "data"
   ]
  },
  {
   "cell_type": "markdown",
   "id": "8387e383",
   "metadata": {},
   "source": [
    "## Make a column for price per acre "
   ]
  },
  {
   "cell_type": "code",
   "execution_count": 67,
   "id": "51ec39d3",
   "metadata": {},
   "outputs": [],
   "source": [
    "data['Price_per_acre'] = data['Price'] / data['Size']"
   ]
  },
  {
   "cell_type": "code",
   "execution_count": 68,
   "id": "9771f135",
   "metadata": {},
   "outputs": [
    {
     "data": {
      "text/html": [
       "<div>\n",
       "<style scoped>\n",
       "    .dataframe tbody tr th:only-of-type {\n",
       "        vertical-align: middle;\n",
       "    }\n",
       "\n",
       "    .dataframe tbody tr th {\n",
       "        vertical-align: top;\n",
       "    }\n",
       "\n",
       "    .dataframe thead th {\n",
       "        text-align: right;\n",
       "    }\n",
       "</style>\n",
       "<table border=\"1\" class=\"dataframe\">\n",
       "  <thead>\n",
       "    <tr style=\"text-align: right;\">\n",
       "      <th></th>\n",
       "      <th>Price</th>\n",
       "      <th>Size</th>\n",
       "      <th>Price_per_acre</th>\n",
       "    </tr>\n",
       "  </thead>\n",
       "  <tbody>\n",
       "    <tr>\n",
       "      <th>0</th>\n",
       "      <td>250000.0</td>\n",
       "      <td>4.50</td>\n",
       "      <td>55555.555556</td>\n",
       "    </tr>\n",
       "    <tr>\n",
       "      <th>1</th>\n",
       "      <td>155999.0</td>\n",
       "      <td>4.20</td>\n",
       "      <td>37142.619048</td>\n",
       "    </tr>\n",
       "    <tr>\n",
       "      <th>2</th>\n",
       "      <td>69900.0</td>\n",
       "      <td>1.25</td>\n",
       "      <td>55920.000000</td>\n",
       "    </tr>\n",
       "    <tr>\n",
       "      <th>3</th>\n",
       "      <td>184900.0</td>\n",
       "      <td>2.50</td>\n",
       "      <td>73960.000000</td>\n",
       "    </tr>\n",
       "    <tr>\n",
       "      <th>4</th>\n",
       "      <td>184900.0</td>\n",
       "      <td>2.50</td>\n",
       "      <td>73960.000000</td>\n",
       "    </tr>\n",
       "    <tr>\n",
       "      <th>5</th>\n",
       "      <td>34000.0</td>\n",
       "      <td>0.34</td>\n",
       "      <td>100000.000000</td>\n",
       "    </tr>\n",
       "    <tr>\n",
       "      <th>6</th>\n",
       "      <td>56000.0</td>\n",
       "      <td>0.70</td>\n",
       "      <td>80000.000000</td>\n",
       "    </tr>\n",
       "    <tr>\n",
       "      <th>7</th>\n",
       "      <td>220000.0</td>\n",
       "      <td>4.60</td>\n",
       "      <td>47826.086957</td>\n",
       "    </tr>\n",
       "    <tr>\n",
       "      <th>8</th>\n",
       "      <td>389000.0</td>\n",
       "      <td>2.00</td>\n",
       "      <td>194500.000000</td>\n",
       "    </tr>\n",
       "  </tbody>\n",
       "</table>\n",
       "</div>"
      ],
      "text/plain": [
       "      Price  Size  Price_per_acre\n",
       "0  250000.0  4.50    55555.555556\n",
       "1  155999.0  4.20    37142.619048\n",
       "2   69900.0  1.25    55920.000000\n",
       "3  184900.0  2.50    73960.000000\n",
       "4  184900.0  2.50    73960.000000\n",
       "5   34000.0  0.34   100000.000000\n",
       "6   56000.0  0.70    80000.000000\n",
       "7  220000.0  4.60    47826.086957\n",
       "8  389000.0  2.00   194500.000000"
      ]
     },
     "execution_count": 68,
     "metadata": {},
     "output_type": "execute_result"
    }
   ],
   "source": [
    "data"
   ]
  },
  {
   "cell_type": "markdown",
   "id": "4fbd5954",
   "metadata": {},
   "source": [
    "## Deleting OutLiers from the data and saving it to data_no_outliers"
   ]
  },
  {
   "cell_type": "code",
   "execution_count": 69,
   "id": "cf09bc82",
   "metadata": {},
   "outputs": [],
   "source": [
    "# Calculate Quartiles\n",
    "Q1 = data['Price_per_acre'].quantile(0.25)\n",
    "Q3 = data['Price_per_acre'].quantile(0.75)\n",
    "\n",
    "# Calculate IQR\n",
    "IQR = Q3 - Q1\n",
    "\n",
    "# Define thresholds for outliers\n",
    "lower_threshold = Q1 - 1.5 * IQR\n",
    "upper_threshold = Q3 + 1.5 * IQR\n",
    "\n",
    "# Filter out outliers\n",
    "data_no_outliers = data[(data['Price_per_acre'] >= lower_threshold) & (data['Price_per_acre'] <= upper_threshold)]"
   ]
  },
  {
   "cell_type": "markdown",
   "id": "0291052a",
   "metadata": {},
   "source": [
    "## Read the data after removing the outliers"
   ]
  },
  {
   "cell_type": "code",
   "execution_count": 70,
   "id": "a2ff250e",
   "metadata": {},
   "outputs": [
    {
     "data": {
      "text/html": [
       "<div>\n",
       "<style scoped>\n",
       "    .dataframe tbody tr th:only-of-type {\n",
       "        vertical-align: middle;\n",
       "    }\n",
       "\n",
       "    .dataframe tbody tr th {\n",
       "        vertical-align: top;\n",
       "    }\n",
       "\n",
       "    .dataframe thead th {\n",
       "        text-align: right;\n",
       "    }\n",
       "</style>\n",
       "<table border=\"1\" class=\"dataframe\">\n",
       "  <thead>\n",
       "    <tr style=\"text-align: right;\">\n",
       "      <th></th>\n",
       "      <th>Price</th>\n",
       "      <th>Size</th>\n",
       "      <th>Price_per_acre</th>\n",
       "    </tr>\n",
       "  </thead>\n",
       "  <tbody>\n",
       "    <tr>\n",
       "      <th>0</th>\n",
       "      <td>250000.0</td>\n",
       "      <td>4.50</td>\n",
       "      <td>55555.555556</td>\n",
       "    </tr>\n",
       "    <tr>\n",
       "      <th>1</th>\n",
       "      <td>155999.0</td>\n",
       "      <td>4.20</td>\n",
       "      <td>37142.619048</td>\n",
       "    </tr>\n",
       "    <tr>\n",
       "      <th>2</th>\n",
       "      <td>69900.0</td>\n",
       "      <td>1.25</td>\n",
       "      <td>55920.000000</td>\n",
       "    </tr>\n",
       "    <tr>\n",
       "      <th>3</th>\n",
       "      <td>184900.0</td>\n",
       "      <td>2.50</td>\n",
       "      <td>73960.000000</td>\n",
       "    </tr>\n",
       "    <tr>\n",
       "      <th>4</th>\n",
       "      <td>184900.0</td>\n",
       "      <td>2.50</td>\n",
       "      <td>73960.000000</td>\n",
       "    </tr>\n",
       "    <tr>\n",
       "      <th>5</th>\n",
       "      <td>34000.0</td>\n",
       "      <td>0.34</td>\n",
       "      <td>100000.000000</td>\n",
       "    </tr>\n",
       "    <tr>\n",
       "      <th>6</th>\n",
       "      <td>56000.0</td>\n",
       "      <td>0.70</td>\n",
       "      <td>80000.000000</td>\n",
       "    </tr>\n",
       "    <tr>\n",
       "      <th>7</th>\n",
       "      <td>220000.0</td>\n",
       "      <td>4.60</td>\n",
       "      <td>47826.086957</td>\n",
       "    </tr>\n",
       "  </tbody>\n",
       "</table>\n",
       "</div>"
      ],
      "text/plain": [
       "      Price  Size  Price_per_acre\n",
       "0  250000.0  4.50    55555.555556\n",
       "1  155999.0  4.20    37142.619048\n",
       "2   69900.0  1.25    55920.000000\n",
       "3  184900.0  2.50    73960.000000\n",
       "4  184900.0  2.50    73960.000000\n",
       "5   34000.0  0.34   100000.000000\n",
       "6   56000.0  0.70    80000.000000\n",
       "7  220000.0  4.60    47826.086957"
      ]
     },
     "execution_count": 70,
     "metadata": {},
     "output_type": "execute_result"
    }
   ],
   "source": [
    "data_no_outliers"
   ]
  },
  {
   "cell_type": "markdown",
   "id": "2dc43ce9",
   "metadata": {},
   "source": [
    "## Calculate the avg PPA"
   ]
  },
  {
   "cell_type": "code",
   "execution_count": 71,
   "id": "c0697574",
   "metadata": {},
   "outputs": [
    {
     "data": {
      "text/plain": [
       "64940.0"
      ]
     },
     "execution_count": 71,
     "metadata": {},
     "output_type": "execute_result"
    }
   ],
   "source": [
    "data_no_outliers['Price_per_acre'].median()"
   ]
  },
  {
   "cell_type": "markdown",
   "id": "f9a60aad",
   "metadata": {},
   "source": [
    "## Calculate the offer"
   ]
  },
  {
   "cell_type": "code",
   "execution_count": 72,
   "id": "64de2e91",
   "metadata": {},
   "outputs": [
    {
     "data": {
      "text/plain": [
       "10390.400000000001"
      ]
     },
     "execution_count": 72,
     "metadata": {},
     "output_type": "execute_result"
    }
   ],
   "source": [
    "Avg_PPA = data_no_outliers['Price_per_acre'].median()*0.4*0.4\n",
    "Avg_PPA"
   ]
  },
  {
   "cell_type": "code",
   "execution_count": null,
   "id": "ecf7bed1",
   "metadata": {},
   "outputs": [],
   "source": []
  }
 ],
 "metadata": {
  "kernelspec": {
   "display_name": "Python 3 (ipykernel)",
   "language": "python",
   "name": "python3"
  },
  "language_info": {
   "codemirror_mode": {
    "name": "ipython",
    "version": 3
   },
   "file_extension": ".py",
   "mimetype": "text/x-python",
   "name": "python",
   "nbconvert_exporter": "python",
   "pygments_lexer": "ipython3",
   "version": "3.11.3"
  }
 },
 "nbformat": 4,
 "nbformat_minor": 5
}
